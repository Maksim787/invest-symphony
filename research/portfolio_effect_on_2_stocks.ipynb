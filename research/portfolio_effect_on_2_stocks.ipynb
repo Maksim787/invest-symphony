{
 "cells": [
  {
   "cell_type": "code",
   "execution_count": 336,
   "metadata": {},
   "outputs": [],
   "source": [
    "import numpy as np\n",
    "import pandas as pd\n",
    "import matplotlib.pyplot as plt\n",
    "import seaborn as sns\n",
    "from pathlib import Path"
   ]
  },
  {
   "cell_type": "code",
   "execution_count": 337,
   "metadata": {},
   "outputs": [
    {
     "data": {
      "text/plain": [
       "246"
      ]
     },
     "execution_count": 337,
     "metadata": {},
     "output_type": "execute_result"
    }
   ],
   "source": [
    "day_closes = Path('../data/day_close')\n",
    "assert day_closes.exists()\n",
    "\n",
    "tickers = [file.name.removesuffix('.csv') for file in day_closes.iterdir()]\n",
    "len(tickers)"
   ]
  },
  {
   "cell_type": "code",
   "execution_count": 338,
   "metadata": {},
   "outputs": [
    {
     "data": {
      "text/plain": [
       "246"
      ]
     },
     "execution_count": 338,
     "metadata": {},
     "output_type": "execute_result"
    }
   ],
   "source": [
    "def is_sorted(arr):\n",
    "    return np.all(np.sort(arr) == arr)\n",
    "\n",
    "\n",
    "dfs = {}\n",
    "for ticker in tickers:\n",
    "    df = pd.read_csv(day_closes / f'{ticker}.csv', parse_dates=[1]).set_index('TRADEDATE')\n",
    "    assert np.all(df['BOARDID'] == 'TQBR')\n",
    "    assert is_sorted(df.index)\n",
    "    df = df.rename(columns={'CLOSE': ticker})\n",
    "    dfs[ticker] = df[ticker]\n",
    "len(dfs)"
   ]
  },
  {
   "cell_type": "code",
   "execution_count": 339,
   "metadata": {},
   "outputs": [
    {
     "name": "stdout",
     "output_type": "stream",
     "text": [
      "len(first)=2568, len(second)=2265\n",
      "len(common) = 2265\n",
      "From 2014-06-09 to 2023-06-01\n"
     ]
    },
    {
     "data": {
      "text/html": [
       "<div>\n",
       "<style scoped>\n",
       "    .dataframe tbody tr th:only-of-type {\n",
       "        vertical-align: middle;\n",
       "    }\n",
       "\n",
       "    .dataframe tbody tr th {\n",
       "        vertical-align: top;\n",
       "    }\n",
       "\n",
       "    .dataframe thead th {\n",
       "        text-align: right;\n",
       "    }\n",
       "</style>\n",
       "<table border=\"1\" class=\"dataframe\">\n",
       "  <thead>\n",
       "    <tr style=\"text-align: right;\">\n",
       "      <th></th>\n",
       "      <th>SBER</th>\n",
       "      <th>ROSN</th>\n",
       "    </tr>\n",
       "    <tr>\n",
       "      <th>TRADEDATE</th>\n",
       "      <th></th>\n",
       "      <th></th>\n",
       "    </tr>\n",
       "  </thead>\n",
       "  <tbody>\n",
       "    <tr>\n",
       "      <th>2014-06-09</th>\n",
       "      <td>88.89</td>\n",
       "      <td>240.36</td>\n",
       "    </tr>\n",
       "    <tr>\n",
       "      <th>2014-06-10</th>\n",
       "      <td>88.99</td>\n",
       "      <td>242.80</td>\n",
       "    </tr>\n",
       "    <tr>\n",
       "      <th>2014-06-11</th>\n",
       "      <td>89.00</td>\n",
       "      <td>249.66</td>\n",
       "    </tr>\n",
       "    <tr>\n",
       "      <th>2014-06-16</th>\n",
       "      <td>84.85</td>\n",
       "      <td>253.30</td>\n",
       "    </tr>\n",
       "    <tr>\n",
       "      <th>2014-06-17</th>\n",
       "      <td>83.80</td>\n",
       "      <td>251.59</td>\n",
       "    </tr>\n",
       "  </tbody>\n",
       "</table>\n",
       "</div>"
      ],
      "text/plain": [
       "             SBER    ROSN\n",
       "TRADEDATE                \n",
       "2014-06-09  88.89  240.36\n",
       "2014-06-10  88.99  242.80\n",
       "2014-06-11  89.00  249.66\n",
       "2014-06-16  84.85  253.30\n",
       "2014-06-17  83.80  251.59"
      ]
     },
     "execution_count": 339,
     "metadata": {},
     "output_type": "execute_result"
    }
   ],
   "source": [
    "first_ticker = 'SBER'\n",
    "second_ticker = 'ROSN'\n",
    "\n",
    "first = dfs[first_ticker]\n",
    "second = dfs[second_ticker]\n",
    "\n",
    "print(f'len(first)={len(first)}, len(second)={len(second)}')\n",
    "first = first[np.isin(first.index, second.index)]\n",
    "second = second[np.isin(second.index, first.index)]\n",
    "print(f'len(common) = {len(first)}')\n",
    "print(f'From {first.index[0].strftime(\"%Y-%m-%d\")} to {first.index[-1].strftime(\"%Y-%m-%d\")}')\n",
    "assert np.all(first.index == second.index)\n",
    "assets_df = pd.concat((first, second), axis=1)\n",
    "assets_df.head()"
   ]
  },
  {
   "cell_type": "code",
   "execution_count": 340,
   "metadata": {},
   "outputs": [
    {
     "data": {
      "text/html": [
       "<div>\n",
       "<style scoped>\n",
       "    .dataframe tbody tr th:only-of-type {\n",
       "        vertical-align: middle;\n",
       "    }\n",
       "\n",
       "    .dataframe tbody tr th {\n",
       "        vertical-align: top;\n",
       "    }\n",
       "\n",
       "    .dataframe thead th {\n",
       "        text-align: right;\n",
       "    }\n",
       "</style>\n",
       "<table border=\"1\" class=\"dataframe\">\n",
       "  <thead>\n",
       "    <tr style=\"text-align: right;\">\n",
       "      <th></th>\n",
       "      <th>SBER</th>\n",
       "      <th>ROSN</th>\n",
       "      <th>day_distance</th>\n",
       "    </tr>\n",
       "    <tr>\n",
       "      <th>TRADEDATE</th>\n",
       "      <th></th>\n",
       "      <th></th>\n",
       "      <th></th>\n",
       "    </tr>\n",
       "  </thead>\n",
       "  <tbody>\n",
       "    <tr>\n",
       "      <th>2014-06-10</th>\n",
       "      <td>0.112499</td>\n",
       "      <td>1.015144</td>\n",
       "      <td>1 days</td>\n",
       "    </tr>\n",
       "    <tr>\n",
       "      <th>2014-06-11</th>\n",
       "      <td>0.011237</td>\n",
       "      <td>2.825371</td>\n",
       "      <td>1 days</td>\n",
       "    </tr>\n",
       "    <tr>\n",
       "      <th>2014-06-16</th>\n",
       "      <td>-4.662921</td>\n",
       "      <td>1.457983</td>\n",
       "      <td>5 days</td>\n",
       "    </tr>\n",
       "    <tr>\n",
       "      <th>2014-06-17</th>\n",
       "      <td>-1.237478</td>\n",
       "      <td>-0.675089</td>\n",
       "      <td>1 days</td>\n",
       "    </tr>\n",
       "    <tr>\n",
       "      <th>2014-06-18</th>\n",
       "      <td>-0.035800</td>\n",
       "      <td>-0.286180</td>\n",
       "      <td>1 days</td>\n",
       "    </tr>\n",
       "  </tbody>\n",
       "</table>\n",
       "</div>"
      ],
      "text/plain": [
       "                SBER      ROSN day_distance\n",
       "TRADEDATE                                  \n",
       "2014-06-10  0.112499  1.015144       1 days\n",
       "2014-06-11  0.011237  2.825371       1 days\n",
       "2014-06-16 -4.662921  1.457983       5 days\n",
       "2014-06-17 -1.237478 -0.675089       1 days\n",
       "2014-06-18 -0.035800 -0.286180       1 days"
      ]
     },
     "execution_count": 340,
     "metadata": {},
     "output_type": "execute_result"
    }
   ],
   "source": [
    "tickers = assets_df.columns.tolist()\n",
    "assets_returns = assets_df.pct_change() * 100\n",
    "day_distance = pd.to_timedelta((assets_returns.index[1:] - assets_returns.index[:-1]).total_seconds(), unit='s')\n",
    "assets_returns = assets_returns.dropna()\n",
    "assets_returns['day_distance'] = day_distance\n",
    "assets_returns.head()"
   ]
  },
  {
   "cell_type": "code",
   "execution_count": 341,
   "metadata": {},
   "outputs": [
    {
     "data": {
      "image/png": "[encoded data removed]",
      "text/plain": [
       "<Figure size 640x480 with 1 Axes>"
      ]
     },
     "metadata": {},
     "output_type": "display_data"
    }
   ],
   "source": [
    "TRADE_DAYS_PER_YEAR = 252\n",
    "\n",
    "observations_counts = assets_returns.groupby(pd.Grouper(freq='Y', level='TRADEDATE')).size()\n",
    "ax = sns.barplot(x=observations_counts.index.year, y=observations_counts)\n",
    "for i, v in enumerate(observations_counts.values):\n",
    "    ax.text(i, v, str(v), ha='center', va='bottom')\n",
    "plt.xlabel('year')\n",
    "plt.ylabel('number of observations')\n",
    "plt.show()"
   ]
  },
  {
   "cell_type": "code",
   "execution_count": 342,
   "metadata": {},
   "outputs": [],
   "source": [
    "# convert to day returns\n",
    "for ticker in tickers:\n",
    "    assets_returns[f'{ticker}_corrected'] = assets_returns[ticker] / assets_returns['day_distance'].dt.days"
   ]
  },
  {
   "cell_type": "code",
   "execution_count": 343,
   "metadata": {},
   "outputs": [
    {
     "data": {
      "text/html": [
       "<div>\n",
       "<style scoped>\n",
       "    .dataframe tbody tr th:only-of-type {\n",
       "        vertical-align: middle;\n",
       "    }\n",
       "\n",
       "    .dataframe tbody tr th {\n",
       "        vertical-align: top;\n",
       "    }\n",
       "\n",
       "    .dataframe thead th {\n",
       "        text-align: right;\n",
       "    }\n",
       "</style>\n",
       "<table border=\"1\" class=\"dataframe\">\n",
       "  <thead>\n",
       "    <tr style=\"text-align: right;\">\n",
       "      <th></th>\n",
       "      <th>SBER</th>\n",
       "      <th>ROSN</th>\n",
       "    </tr>\n",
       "    <tr>\n",
       "      <th>TRADEDATE</th>\n",
       "      <th></th>\n",
       "      <th></th>\n",
       "    </tr>\n",
       "  </thead>\n",
       "  <tbody>\n",
       "    <tr>\n",
       "      <th>2014-06-10</th>\n",
       "      <td>0.112499</td>\n",
       "      <td>1.015144</td>\n",
       "    </tr>\n",
       "    <tr>\n",
       "      <th>2014-06-11</th>\n",
       "      <td>0.011237</td>\n",
       "      <td>2.825371</td>\n",
       "    </tr>\n",
       "    <tr>\n",
       "      <th>2014-06-16</th>\n",
       "      <td>-0.932584</td>\n",
       "      <td>0.291597</td>\n",
       "    </tr>\n",
       "    <tr>\n",
       "      <th>2014-06-17</th>\n",
       "      <td>-1.237478</td>\n",
       "      <td>-0.675089</td>\n",
       "    </tr>\n",
       "    <tr>\n",
       "      <th>2014-06-18</th>\n",
       "      <td>-0.035800</td>\n",
       "      <td>-0.286180</td>\n",
       "    </tr>\n",
       "  </tbody>\n",
       "</table>\n",
       "</div>"
      ],
      "text/plain": [
       "                SBER      ROSN\n",
       "TRADEDATE                     \n",
       "2014-06-10  0.112499  1.015144\n",
       "2014-06-11  0.011237  2.825371\n",
       "2014-06-16 -0.932584  0.291597\n",
       "2014-06-17 -1.237478 -0.675089\n",
       "2014-06-18 -0.035800 -0.286180"
      ]
     },
     "execution_count": 343,
     "metadata": {},
     "output_type": "execute_result"
    }
   ],
   "source": [
    "assets_returns_corrected = assets_returns[[f'{ticker}_corrected' for ticker in tickers]].rename(columns={f'{ticker}_corrected': ticker for ticker in tickers})\n",
    "assets_returns_corrected.head()"
   ]
  },
  {
   "cell_type": "code",
   "execution_count": 344,
   "metadata": {},
   "outputs": [
    {
     "data": {
      "text/html": [
       "<div>\n",
       "<style scoped>\n",
       "    .dataframe tbody tr th:only-of-type {\n",
       "        vertical-align: middle;\n",
       "    }\n",
       "\n",
       "    .dataframe tbody tr th {\n",
       "        vertical-align: top;\n",
       "    }\n",
       "\n",
       "    .dataframe thead th {\n",
       "        text-align: right;\n",
       "    }\n",
       "</style>\n",
       "<table border=\"1\" class=\"dataframe\">\n",
       "  <thead>\n",
       "    <tr style=\"text-align: right;\">\n",
       "      <th></th>\n",
       "      <th>SBER</th>\n",
       "      <th>ROSN</th>\n",
       "    </tr>\n",
       "  </thead>\n",
       "  <tbody>\n",
       "    <tr>\n",
       "      <th>SBER</th>\n",
       "      <td>1.000000</td>\n",
       "      <td>0.580848</td>\n",
       "    </tr>\n",
       "    <tr>\n",
       "      <th>ROSN</th>\n",
       "      <td>0.580848</td>\n",
       "      <td>1.000000</td>\n",
       "    </tr>\n",
       "  </tbody>\n",
       "</table>\n",
       "</div>"
      ],
      "text/plain": [
       "          SBER      ROSN\n",
       "SBER  1.000000  0.580848\n",
       "ROSN  0.580848  1.000000"
      ]
     },
     "execution_count": 344,
     "metadata": {},
     "output_type": "execute_result"
    }
   ],
   "source": [
    "corr_matrix = assets_returns_corrected.corr()\n",
    "cov_matrix = assets_returns_corrected.cov()\n",
    "corr_matrix"
   ]
  },
  {
   "cell_type": "code",
   "execution_count": 345,
   "metadata": {},
   "outputs": [
    {
     "data": {
      "text/plain": [
       "SBER    14.560186\n",
       "ROSN    12.905394\n",
       "dtype: float64"
      ]
     },
     "execution_count": 345,
     "metadata": {},
     "output_type": "execute_result"
    }
   ],
   "source": [
    "assets_returns_corrected.mean() * TRADE_DAYS_PER_YEAR"
   ]
  },
  {
   "cell_type": "code",
   "execution_count": 346,
   "metadata": {},
   "outputs": [
    {
     "data": {
      "text/plain": [
       "(2, 100)"
      ]
     },
     "execution_count": 346,
     "metadata": {},
     "output_type": "execute_result"
    }
   ],
   "source": [
    "w_first = np.linspace(1, 0, 100).reshape(1, -1)\n",
    "w = np.concatenate((w_first, 1 - w_first), axis=0)\n",
    "w.shape"
   ]
  },
  {
   "cell_type": "code",
   "execution_count": 347,
   "metadata": {},
   "outputs": [],
   "source": [
    "mean_returns = (w * assets_returns_corrected.mean().values.reshape(-1, 1)).sum(axis=0) * TRADE_DAYS_PER_YEAR\n",
    "std_returns = np.sqrt((w * (cov_matrix.values @ w)).sum(axis=0)) * np.sqrt(TRADE_DAYS_PER_YEAR)"
   ]
  },
  {
   "cell_type": "code",
   "execution_count": 348,
   "metadata": {},
   "outputs": [],
   "source": [
    "# sanity check\n",
    "N_OBSERVATION = 25\n",
    "true_returns = (assets_returns_corrected.values * w[:, N_OBSERVATION]).sum(axis=1)\n",
    "assert np.isclose(mean_returns[N_OBSERVATION], true_returns.mean() * TRADE_DAYS_PER_YEAR)\n",
    "assert np.isclose(std_returns[N_OBSERVATION], true_returns.std() * np.sqrt(TRADE_DAYS_PER_YEAR), rtol=1e-3), f'{std_returns[N_OBSERVATION], true_returns.std()}'"
   ]
  },
  {
   "cell_type": "code",
   "execution_count": 355,
   "metadata": {},
   "outputs": [
    {
     "data": {
      "image/png": "[encoded data removed]",
      "text/plain": [
       "<Figure size 640x480 with 1 Axes>"
      ]
     },
     "metadata": {},
     "output_type": "display_data"
    }
   ],
   "source": [
    "min_variance = np.argmin(std_returns)\n",
    "plt.plot(std_returns[min_variance:], mean_returns[min_variance:], color='C5')\n",
    "plt.plot(std_returns[:min_variance], mean_returns[:min_variance], color='C0')\n",
    "\n",
    "plt.xlim(min(std_returns) - 0.2, max(std_returns) + 0.9)\n",
    "\n",
    "plt.plot(std_returns[0], mean_returns[0], marker='o', color='C1')\n",
    "plt.annotate(f'         {first_ticker}\\n({mean_returns[0]:.1f}% ± {std_returns[0]:.1f}%)', (std_returns[0], mean_returns[0]), xytext=(std_returns[0] - 0.5, mean_returns[0] - 0.2))\n",
    "\n",
    "plt.plot(std_returns[-1], mean_returns[-1], marker='o', color='C1')\n",
    "plt.annotate(f'         {second_ticker}\\n({mean_returns[-1]:.1f}% ± {std_returns[-1]:.1f}%)', (std_returns[-1], mean_returns[-1]), xytext=(std_returns[-1], mean_returns[-1] + 0.05))\n",
    "\n",
    "plt.plot(std_returns[min_variance], mean_returns[min_variance], marker='o', color='C2')\n",
    "plt.annotate(f'Оптимальный портфель\\n{first_ticker}={w[0, min_variance]:.0%}; {second_ticker} = {w[1, min_variance]:.0%}\\n       ({mean_returns[min_variance]:.1f}% ± {std_returns[min_variance]:.1f}%)', (std_returns[min_variance], mean_returns[min_variance]), xytext=(std_returns[min_variance] + 0.3, mean_returns[min_variance] - 0.1))\n",
    "\n",
    "\n",
    "plt.xlabel('Стандартное отклонение, %')\n",
    "plt.ylabel('Средняя годовая доходность, %')\n",
    "plt.title('Все возможные портфели из Сбербанка и Роснефти')\n",
    "\n",
    "plt.savefig('figures/optimal_portfolio.png', bbox_inches='tight')\n",
    "\n",
    "plt.show()"
   ]
  },
  {
   "attachments": {},
   "cell_type": "markdown",
   "metadata": {},
   "source": [
    "Портфельный эффект – что это?\n",
    "\n",
    "Многие из вас, наверное, знают про диверсификацию при инвестициях. Например, стоит купить акции компаний из разных отраслей. Если одна компания теряет в цене, то акции другой компании могут вырасти. Но как выбрать доли каждой компании в портфеле? Какая самая эффективная стратегия?\n",
    "\n",
    "Чтобы ответить на эти вопросы, давайте разберемся с понятием риска. Каждый актив имеет среднюю доходность. Например, акции обычно дают большую доходность, чем облигации. Однако, у акций есть риски: доходность может быть выше или ниже средней. Средняя разница между средней доходностью и фактической называется стандартным отклонением доходности. Чем выше стандартное отклонение, тем больше риск вложения в этот актив, потому что вероятность получить доходность ниже средней увеличивается.\n",
    "\n",
    "Теперь перейдем к составлению портфеля. Давайте рассмотрим две акции: Сбербанк и Роснефть. У каждой акции есть средняя доходность и стандартное отклонение. Также, доходности этих акций связаны друг с другом, что затрудняет составление диверсифицированного портфеля.\n",
    "\n",
    "Давайте рассмотрим все возможные портфели, в которых Сбербанк занимает долю a%, а Роснефть – долю (100 - a)%. Посчитаем для этих портфелей среднюю доходность и стандартное отклонение доходности. На графике отложим по оси y среднюю доходность, а по оси x – стандартное отклонение. Оранжевыми точками отметим портфели, состоящие только из Сбербанка или Роснефти.\n",
    "\n",
    "Можно заметить, что акции Сбербанка в среднем дают более высокую годовую доходность – 14.6%, но их стандартное отклонение доходности также очень большое – около 31.5%. Роснефть дает меньшую среднюю доходность, но при этом имеет более низкий риск.\n",
    "\n",
    "Также из графика видно, что инвестировать все средства только в Роснефть нерационально. Если составить портфель из 60% Роснефти и 40% Сбербанка (зеленая точка), то у такого портфеля будет более высокая доходность и меньший риск. Все точки на коричневой кривой хуже точек на голубой кривой – это значит, что портфельный эффект позволяет получать более высокую доходность при том же риске.\n",
    "\n",
    "В итоге, выбирая между точками на синей кривой, каждый должен решить для себя, насколько ему важен риск по сравнению со средней доходностью. Данный пример рассматривает только 2 акции. Но в портфель надо брать сразу много разных активов, потому что портфельный эффект будет работать еще лучше. О том, как можно математически учесть больше акций и собрать оптимальный портфель, будет в следующих постах."
   ]
  }
 ],
 "metadata": {
  "kernelspec": {
   "display_name": "invest",
   "language": "python",
   "name": "python3"
  },
  "language_info": {
   "codemirror_mode": {
    "name": "ipython",
    "version": 3
   },
   "file_extension": ".py",
   "mimetype": "text/x-python",
   "name": "python",
   "nbconvert_exporter": "python",
   "pygments_lexer": "ipython3",
   "version": "3.10.6"
  },
  "orig_nbformat": 4
 },
 "nbformat": 4,
 "nbformat_minor": 2
}
