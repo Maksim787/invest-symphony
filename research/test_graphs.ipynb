{
 "cells": [
  {
   "cell_type": "code",
   "execution_count": null,
   "metadata": {},
   "outputs": [
    {
     "data": {
      "text/plain": [
       "<Task pending name='Task-5' coro=<load_data_to_ram() running at d:\\Projects\\invest-symphony\\website\\library\\portfolio.py:256>>"
      ]
     },
     "execution_count": 1,
     "metadata": {},
     "output_type": "execute_result"
    },
    {
     "name": "stdout",
     "output_type": "stream",
     "text": [
      "Load shares from cache\n",
      "Number of tickers in data: 247\n",
      "Number of tickers after taking subset: 141 (subset size is 2026)\n",
      "Data from 2013-03-25 to 2023-07-14\n",
      "Number of tickers after filtering by minimum number of observations: 30\n",
      "Number of tickers after filtering by final date: 30\n",
      "df_prices.shape=(2580, 30)\n",
      "2013 year: 197 observations (30/30)\n",
      "2014 year: 250 observations (30/30)\n",
      "2015 year: 250 observations (30/30)\n",
      "2016 year: 252 observations (30/30)\n",
      "2017 year: 252 observations (30/30)\n",
      "2018 year: 254 observations (30/30)\n",
      "2019 year: 252 observations (30/30)\n",
      "2020 year: 250 observations (30/30)\n",
      "2021 year: 255 observations (30/30)\n",
      "2022 year: 234 observations (30/30)\n",
      "2023 year: 134 observations (30/30)\n"
     ]
    },
    {
     "name": "stderr",
     "output_type": "stream",
     "text": [
      "VTBR: 100%|██████████| 30/30 [00:02<00:00, 14.41it/s] \n"
     ]
    },
    {
     "name": "stdout",
     "output_type": "stream",
     "text": [
      "load_data: 3.5 s\n",
      "Load bonds from cache\n",
      "Load bonds_coupons from cache\n",
      "Load bonds_last_prices from cache\n",
      "Successfully downloaded bonds info data\n"
     ]
    }
   ],
   "source": [
    "import asyncio\n",
    "from website.library import load_data_to_ram, create_portfolio\n",
    "\n",
    "CAPITAL = 5e6\n",
    "RISK_VALUE = 'medium'\n",
    "\n",
    "loop = asyncio.get_event_loop()\n",
    "loop.create_task(load_data_to_ram())"
   ]
  },
  {
   "cell_type": "code",
   "execution_count": 2,
   "metadata": {},
   "outputs": [
    {
     "name": "stdout",
     "output_type": "stream",
     "text": [
      "Optimization time: 0.02 s. n_assets=31\n"
     ]
    }
   ],
   "source": [
    "from website.library.portfolio import Portfolio\n",
    "\n",
    "\n",
    "portfolio = create_portfolio(total_capital=CAPITAL, risk=RISK_VALUE, max_instruments=None)"
   ]
  },
  {
   "cell_type": "code",
   "execution_count": 17,
   "metadata": {},
   "outputs": [
    {
     "name": "stdout",
     "output_type": "stream",
     "text": [
      "The autoreload extension is already loaded. To reload it, use:\n",
      "  %reload_ext autoreload\n"
     ]
    }
   ],
   "source": [
    "%load_ext autoreload\n",
    "%autoreload 2"
   ]
  },
  {
   "cell_type": "code",
   "execution_count": 21,
   "metadata": {},
   "outputs": [],
   "source": [
    "from website.library.graphs import create_pie_chart\n",
    "\n",
    "\n",
    "# Create the pie chart\n",
    "fig = create_pie_chart(portfolio)\n",
    "print(fig)\n",
    "with open('tmp/portfolio_pie_chart.html', 'w') as f:\n",
    "    f.write(fig)"
   ]
  },
  {
   "cell_type": "code",
   "execution_count": null,
   "metadata": {},
   "outputs": [],
   "source": []
  }
 ],
 "metadata": {
  "kernelspec": {
   "display_name": "venv",
   "language": "python",
   "name": "python3"
  },
  "language_info": {
   "codemirror_mode": {
    "name": "ipython",
    "version": 3
   },
   "file_extension": ".py",
   "mimetype": "text/x-python",
   "name": "python",
   "nbconvert_exporter": "python",
   "pygments_lexer": "ipython3",
   "version": "3.11.2"
  },
  "orig_nbformat": 4
 },
 "nbformat": 4,
 "nbformat_minor": 2
}
